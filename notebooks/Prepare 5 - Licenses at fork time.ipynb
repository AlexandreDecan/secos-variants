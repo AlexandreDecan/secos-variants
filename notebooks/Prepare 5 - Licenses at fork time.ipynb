{
 "cells": [
  {
   "cell_type": "markdown",
   "metadata": {},
   "source": [
    "# Licenses at fork time"
   ]
  },
  {
   "cell_type": "markdown",
   "metadata": {},
   "source": [
    "This notebook computes licenses at fork time. It produces `data/licenses.csv.gz'."
   ]
  },
  {
   "cell_type": "code",
   "execution_count": 1,
   "metadata": {},
   "outputs": [],
   "source": [
    "import pandas"
   ]
  },
  {
   "cell_type": "code",
   "execution_count": 2,
   "metadata": {},
   "outputs": [],
   "source": [
    "df_variants = pandas.read_csv('../data/variants.csv.gz')"
   ]
  },
  {
   "cell_type": "code",
   "execution_count": 3,
   "metadata": {},
   "outputs": [],
   "source": [
    "df_repo = pandas.read_csv(\n",
    "    '../data/repositories.csv.gz',\n",
    "    parse_dates=['created_at'],\n",
    "    infer_datetime_format=True,\n",
    ")"
   ]
  },
  {
   "cell_type": "code",
   "execution_count": 4,
   "metadata": {},
   "outputs": [],
   "source": [
    "df_data = (\n",
    "    df_variants\n",
    "    .merge(\n",
    "        df_repo[['repoid', 'created_at']],\n",
    "        how='left',\n",
    "        left_on=['variant_repoid'],\n",
    "        right_on=['repoid'],\n",
    "    )\n",
    "    .rename(columns={'created_at': 'fork_time'})\n",
    "    [['mainline', 'variant', 'fork_time']]\n",
    ")"
   ]
  },
  {
   "cell_type": "markdown",
   "metadata": {},
   "source": [
    "### License at fork time"
   ]
  },
  {
   "cell_type": "code",
   "execution_count": 5,
   "metadata": {},
   "outputs": [],
   "source": [
    "df_licenses = (\n",
    "    pandas.read_csv('../data/releases.csv.gz')\n",
    "    .merge(\n",
    "        pandas.read_csv('../data/releases_npm.csv.gz'),\n",
    "        how='inner',\n",
    "        on=['package', 'version'],\n",
    "    )\n",
    "    .assign(date=lambda d: pandas.to_datetime(d['date'], infer_datetime_format=True))\n",
    "    [['package', 'version', 'date', 'license']]\n",
    ")"
   ]
  },
  {
   "cell_type": "code",
   "execution_count": 8,
   "metadata": {},
   "outputs": [],
   "source": [
    "df_data = (\n",
    "    df_data\n",
    "    .sort_values('fork_time')\n",
    "    \n",
    "    # Mainline license before fork\n",
    "    .pipe(lambda df: \n",
    "        pandas.merge_asof(\n",
    "            df,\n",
    "            df_licenses.sort_values('date'),\n",
    "            left_on='fork_time',\n",
    "            right_on='date',\n",
    "            left_by='mainline',\n",
    "            right_by='package',\n",
    "        )\n",
    "        .drop(columns=['package', 'version'])\n",
    "        .rename(columns={'date': 'mainline_date_before_fork', 'license': 'mainline_license_before_fork'})\n",
    "    )\n",
    "    \n",
    "    # Mainline license after fork\n",
    "    .pipe(lambda df: \n",
    "        pandas.merge_asof(\n",
    "            df,\n",
    "            df_licenses.sort_values('date'),\n",
    "            left_on='fork_time',\n",
    "            right_on='date',\n",
    "            left_by='mainline',\n",
    "            right_by='package',\n",
    "            direction='forward',\n",
    "        )\n",
    "        .drop(columns=['package', 'version'])\n",
    "        .rename(columns={'date': 'mainline_date_after_fork', 'license': 'mainline_license_after_fork'})\n",
    "    )\n",
    "    \n",
    "    # Variant license after fork\n",
    "    .pipe(lambda df: \n",
    "        pandas.merge_asof(\n",
    "            df,\n",
    "            df_licenses.sort_values('date'),\n",
    "            left_on='fork_time',\n",
    "            right_on='date',\n",
    "            left_by='variant',\n",
    "            right_by='package',\n",
    "            direction='forward',\n",
    "        )\n",
    "        .drop(columns=['package', 'version'])\n",
    "        .rename(columns={'date': 'variant_date_after_fork', 'license': 'variant_license_after_fork'})\n",
    "    )\n",
    ")"
   ]
  },
  {
   "cell_type": "code",
   "execution_count": 10,
   "metadata": {},
   "outputs": [],
   "source": [
    "df_data.to_csv('../data/licenses.csv.gz', compression='gzip', index=False)"
   ]
  }
 ],
 "metadata": {
  "kernelspec": {
   "display_name": "Python 3",
   "language": "python",
   "name": "python3"
  },
  "language_info": {
   "codemirror_mode": {
    "name": "ipython",
    "version": 3
   },
   "file_extension": ".py",
   "mimetype": "text/x-python",
   "name": "python",
   "nbconvert_exporter": "python",
   "pygments_lexer": "ipython3",
   "version": "3.6.8"
  }
 },
 "nbformat": 4,
 "nbformat_minor": 4
}
